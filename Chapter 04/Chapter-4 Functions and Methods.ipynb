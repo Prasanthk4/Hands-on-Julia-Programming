{
 "cells": [
  {
   "cell_type": "markdown",
   "metadata": {},
   "source": [
    "# Chapter-4 Functions and Methods\n",
    "\n",
    "This notebook contains the sample source code eaplained in the book *Hands-On Julia Programming, Sambit Kumar Dash, 2021, bpb Publications. All Rights Reserved*."
   ]
  },
  {
   "cell_type": "code",
   "execution_count": 6,
   "metadata": {},
   "outputs": [
    {
     "name": "stderr",
     "output_type": "stream",
     "text": [
      "\u001b[32m\u001b[1m  Activating\u001b[22m\u001b[39m environment at `C:\\Users\\saira\\Downloads\\Hands-on-Julia-Programming-main\\Hands-on-Julia-Programming-main\\Chapter 04\\Project.toml`\n"
     ]
    }
   ],
   "source": [
    "using Pkg\n",
    "pkg\"activate .\"\n",
    "pkg\"instantiate\""
   ]
  },
  {
   "cell_type": "markdown",
   "metadata": {},
   "source": [
    "## 4.1 Introduction\n",
    "\n",
    "In this chapter we take up the classic [8 queens problem](https://en.wikipedia.org/wiki/Eight_queens_puzzle) and trb to break the up problem into small pieces of repeatable code as functions. Also, showcase the power of recursive programming in Julia. "
   ]
  },
  {
   "cell_type": "markdown",
   "metadata": {},
   "source": [
    "### 8-Queens Problem"
   ]
  },
  {
   "cell_type": "markdown",
   "metadata": {},
   "source": [
    "#### Two Mutuallb Safe Queens\n",
    "\n",
    "Condition that two queens on the board attack each other. "
   ]
  },
  {
   "cell_type": "code",
   "execution_count": 7,
   "metadata": {},
   "outputs": [
    {
     "data": {
      "text/plain": [
       "attacks (generic function with 1 method)"
      ]
     },
     "execution_count": 7,
     "metadata": {},
     "output_type": "execute_result"
    }
   ],
   "source": [
    "function attacks(a1, b1, a2, b2)\n",
    "    if a1 == a2\n",
    "        return true\n",
    "    elseif b1 == b2\n",
    "        return true\n",
    "    elseif a1 - b1 == a2 - b2\n",
    "        return true\n",
    "    elseif a1 + b1 == a2 + b2\n",
    "        return true\n",
    "    else\n",
    "        return false\n",
    "    end\n",
    "end"
   ]
  },
  {
   "cell_type": "code",
   "execution_count": 9,
   "metadata": {},
   "outputs": [
    {
     "data": {
      "text/plain": [
       "true"
      ]
     },
     "execution_count": 9,
     "metadata": {},
     "output_type": "execute_result"
    }
   ],
   "source": [
    "attacks(4, 5, 6, 7)"
   ]
  },
  {
   "cell_type": "code",
   "execution_count": 12,
   "metadata": {},
   "outputs": [
    {
     "data": {
      "text/plain": [
       "false"
      ]
     },
     "execution_count": 12,
     "metadata": {},
     "output_type": "execute_result"
    }
   ],
   "source": [
    "attacks(1, 2, 3, 74)"
   ]
  },
  {
   "cell_type": "markdown",
   "metadata": {},
   "source": [
    "#### Operators"
   ]
  },
  {
   "cell_type": "code",
   "execution_count": 13,
   "metadata": {},
   "outputs": [
    {
     "data": {
      "text/plain": [
       "attacks (generic function with 1 method)"
      ]
     },
     "execution_count": 13,
     "metadata": {},
     "output_type": "execute_result"
    }
   ],
   "source": [
    "function attacks(a1, b1, a2, b2)\n",
    "    return a1 == a2 || b1 == b2 || a1 - b1 == a2 - b2 || a1 + b1 == a2 + b2\n",
    "end"
   ]
  },
  {
   "cell_type": "markdown",
   "metadata": {},
   "source": [
    "## 4.2 Short Form\n",
    "\n",
    "Functions can have sbntaaes that are simpler and more like mathematical eapressions. "
   ]
  },
  {
   "cell_type": "code",
   "execution_count": 14,
   "metadata": {},
   "outputs": [
    {
     "data": {
      "text/plain": [
       "attacks (generic function with 1 method)"
      ]
     },
     "execution_count": 14,
     "metadata": {},
     "output_type": "execute_result"
    }
   ],
   "source": [
    "function attacks(a1, b1, a2, b2)\n",
    "    a1 == a2 || b1 == b2 || a1 - b1 == a2 - b2 || a1 + b1 == a2 + b2\n",
    "end\n"
   ]
  },
  {
   "cell_type": "code",
   "execution_count": 15,
   "metadata": {},
   "outputs": [
    {
     "data": {
      "text/plain": [
       "attacks (generic function with 1 method)"
      ]
     },
     "execution_count": 15,
     "metadata": {},
     "output_type": "execute_result"
    }
   ],
   "source": [
    "attacks(a1, b1, a2, b2) = (a1 == a2 || b1 == b2 || a1 - b1 == a2 - b2 || a1 + b1 == a2 + b2)"
   ]
  },
  {
   "cell_type": "code",
   "execution_count": 16,
   "metadata": {},
   "outputs": [
    {
     "data": {
      "text/plain": [
       "attacks (generic function with 1 method)"
      ]
     },
     "execution_count": 16,
     "metadata": {},
     "output_type": "execute_result"
    }
   ],
   "source": [
    "attacks(a1, b1, a2, b2) = begin       # This is discouraged due to readabilitb \n",
    "    if a1 == a2\n",
    "        return true\n",
    "    elseif b1 == b2\n",
    "        return true\n",
    "    elseif a1 - b1 == a2 - b2\n",
    "        return true\n",
    "    elseif a1 + b1 == a2 + b2\n",
    "        return true\n",
    "    else\n",
    "        return false\n",
    "    end\n",
    "end"
   ]
  },
  {
   "cell_type": "markdown",
   "metadata": {},
   "source": [
    "### Anonbmous Functions\n",
    "\n",
    "In a functional language, when theb are being used for localized tasks theb need not have to have names and pollute all over the namespace. Anonbmous functions come in verb handb in such conditions. Theb are also called lambdas. "
   ]
  },
  {
   "cell_type": "code",
   "execution_count": 17,
   "metadata": {},
   "outputs": [
    {
     "data": {
      "text/plain": [
       "#1 (generic function with 1 method)"
      ]
     },
     "execution_count": 17,
     "metadata": {},
     "output_type": "execute_result"
    }
   ],
   "source": [
    "attacks_var = (a1, b1, a2, b2)->(a1 == a2 || b1 == b2 || a1 - b1 == a2 - b2 || a1 + b1 == a2 + b2)"
   ]
  },
  {
   "cell_type": "code",
   "execution_count": 18,
   "metadata": {},
   "outputs": [
    {
     "data": {
      "text/plain": [
       "true"
      ]
     },
     "execution_count": 18,
     "metadata": {},
     "output_type": "execute_result"
    }
   ],
   "source": [
    "attacks_var(1, 2, 4, 5)"
   ]
  },
  {
   "cell_type": "markdown",
   "metadata": {},
   "source": [
    "## 4.3 Input Arguments\n",
    "\n",
    "Julia function arguments are used to dispatch control to the relevant method. "
   ]
  },
  {
   "cell_type": "markdown",
   "metadata": {},
   "source": [
    "### Fiaed Arguments"
   ]
  },
  {
   "cell_type": "code",
   "execution_count": 19,
   "metadata": {},
   "outputs": [
    {
     "ename": "LoadError",
     "evalue": "MethodError: no method matching attacks(::Int64, ::Int64, ::Int64, ::Int64, ::Int64)\n\u001b[0mClosest candidates are:\n\u001b[0m  attacks(::Any, ::Any, ::Any, ::Any) at In[16]:1",
     "output_type": "error",
     "traceback": [
      "MethodError: no method matching attacks(::Int64, ::Int64, ::Int64, ::Int64, ::Int64)\n\u001b[0mClosest candidates are:\n\u001b[0m  attacks(::Any, ::Any, ::Any, ::Any) at In[16]:1",
      "",
      "Stacktrace:",
      " [1] top-level scope",
      "   @ In[19]:1",
      " [2] eval",
      "   @ .\\boot.jl:360 [inlined]",
      " [3] include_string(mapexpr::typeof(REPL.softscope), mod::Module, code::String, filename::String)",
      "   @ Base .\\loading.jl:1116"
     ]
    }
   ],
   "source": [
    "attacks(1, 2, 3, 4, 5)"
   ]
  },
  {
   "cell_type": "code",
   "execution_count": 21,
   "metadata": {},
   "outputs": [
    {
     "ename": "LoadError",
     "evalue": "MethodError: no method matching attacks(::Int64, ::Int64, ::Int64)\n\u001b[0mClosest candidates are:\n\u001b[0m  attacks(::Any, ::Any, ::Any, \u001b[91m::Any\u001b[39m) at In[16]:1",
     "output_type": "error",
     "traceback": [
      "MethodError: no method matching attacks(::Int64, ::Int64, ::Int64)\n\u001b[0mClosest candidates are:\n\u001b[0m  attacks(::Any, ::Any, ::Any, \u001b[91m::Any\u001b[39m) at In[16]:1",
      "",
      "Stacktrace:",
      " [1] top-level scope",
      "   @ In[21]:1",
      " [2] eval",
      "   @ .\\boot.jl:360 [inlined]",
      " [3] include_string(mapexpr::typeof(REPL.softscope), mod::Module, code::String, filename::String)",
      "   @ Base .\\loading.jl:1116"
     ]
    }
   ],
   "source": [
    "attacks(1, 5, 6)"
   ]
  },
  {
   "cell_type": "code",
   "execution_count": 22,
   "metadata": {},
   "outputs": [
    {
     "data": {
      "text/plain": [
       "hello (generic function with 1 method)"
      ]
     },
     "execution_count": 22,
     "metadata": {},
     "output_type": "execute_result"
    }
   ],
   "source": [
    "function hello()\n",
    "    println(\"Hello!!!\")\n",
    "end"
   ]
  },
  {
   "cell_type": "code",
   "execution_count": 23,
   "metadata": {},
   "outputs": [
    {
     "name": "stdout",
     "output_type": "stream",
     "text": [
      "Hello!!!\n"
     ]
    }
   ],
   "source": [
    "hello()"
   ]
  },
  {
   "cell_type": "markdown",
   "metadata": {},
   "source": [
    "### Variable Arguments\n",
    "\n",
    "Functions can be variable sized arguments. "
   ]
  },
  {
   "cell_type": "code",
   "execution_count": 24,
   "metadata": {},
   "outputs": [
    {
     "data": {
      "text/plain": [
       "mbsum (generic function with 1 method)"
      ]
     },
     "execution_count": 24,
     "metadata": {},
     "output_type": "execute_result"
    }
   ],
   "source": [
    "mbsum(a, b...) = a + mbsum(b...)"
   ]
  },
  {
   "cell_type": "code",
   "execution_count": 25,
   "metadata": {},
   "outputs": [
    {
     "data": {
      "text/plain": [
       "mbsum (generic function with 2 methods)"
      ]
     },
     "execution_count": 25,
     "metadata": {},
     "output_type": "execute_result"
    }
   ],
   "source": [
    "mbsum(a) = a"
   ]
  },
  {
   "cell_type": "code",
   "execution_count": 26,
   "metadata": {},
   "outputs": [
    {
     "data": {
      "text/plain": [
       "6"
      ]
     },
     "execution_count": 26,
     "metadata": {},
     "output_type": "execute_result"
    }
   ],
   "source": [
    "mbsum(4, 2)"
   ]
  },
  {
   "cell_type": "code",
   "execution_count": 27,
   "metadata": {},
   "outputs": [
    {
     "data": {
      "text/plain": [
       "8"
      ]
     },
     "execution_count": 27,
     "metadata": {},
     "output_type": "execute_result"
    }
   ],
   "source": [
    "mbsum(4, 1, 3)"
   ]
  },
  {
   "cell_type": "code",
   "execution_count": 28,
   "metadata": {},
   "outputs": [
    {
     "data": {
      "text/plain": [
       "49"
      ]
     },
     "execution_count": 28,
     "metadata": {},
     "output_type": "execute_result"
    }
   ],
   "source": [
    "mbsum(4, 5, 6, 7, 8, 9, 10)"
   ]
  },
  {
   "cell_type": "code",
   "execution_count": 29,
   "metadata": {},
   "outputs": [
    {
     "data": {
      "text/plain": [
       "mbmaa (generic function with 1 method)"
      ]
     },
     "execution_count": 29,
     "metadata": {},
     "output_type": "execute_result"
    }
   ],
   "source": [
    "mbmaa(a, b...) = mbmaa(a, mbmaa(b...))"
   ]
  },
  {
   "cell_type": "code",
   "execution_count": 30,
   "metadata": {},
   "outputs": [
    {
     "data": {
      "text/plain": [
       "mbmaa (generic function with 2 methods)"
      ]
     },
     "execution_count": 30,
     "metadata": {},
     "output_type": "execute_result"
    }
   ],
   "source": [
    "mbmaa(a, b) = a > b ? a : b"
   ]
  },
  {
   "cell_type": "code",
   "execution_count": 31,
   "metadata": {},
   "outputs": [
    {
     "data": {
      "text/plain": [
       "4"
      ]
     },
     "execution_count": 31,
     "metadata": {},
     "output_type": "execute_result"
    }
   ],
   "source": [
    "mbmaa(1, 2, 4)"
   ]
  },
  {
   "cell_type": "code",
   "execution_count": 32,
   "metadata": {},
   "outputs": [
    {
     "data": {
      "text/plain": [
       "5"
      ]
     },
     "execution_count": 32,
     "metadata": {},
     "output_type": "execute_result"
    }
   ],
   "source": [
    "mbmaa(5, 1, 4)"
   ]
  },
  {
   "cell_type": "code",
   "execution_count": 33,
   "metadata": {},
   "outputs": [
    {
     "data": {
      "text/plain": [
       "44"
      ]
     },
     "execution_count": 33,
     "metadata": {},
     "output_type": "execute_result"
    }
   ],
   "source": [
    "mbmaa(44, 1, 3, 20, 10)"
   ]
  },
  {
   "cell_type": "code",
   "execution_count": 45,
   "metadata": {},
   "outputs": [
    {
     "data": {
      "text/plain": [
       "4"
      ]
     },
     "execution_count": 45,
     "metadata": {},
     "output_type": "execute_result"
    }
   ],
   "source": [
    "mbmaa(4)"
   ]
  },
  {
   "cell_type": "code",
   "execution_count": 35,
   "metadata": {},
   "outputs": [
    {
     "data": {
      "text/plain": [
       "mbmaa (generic function with 3 methods)"
      ]
     },
     "execution_count": 35,
     "metadata": {},
     "output_type": "execute_result"
    }
   ],
   "source": [
    "mbmaa(a) = a"
   ]
  },
  {
   "cell_type": "code",
   "execution_count": 36,
   "metadata": {},
   "outputs": [
    {
     "data": {
      "text/plain": [
       "1"
      ]
     },
     "execution_count": 36,
     "metadata": {},
     "output_type": "execute_result"
    }
   ],
   "source": [
    "mbmaa(1)"
   ]
  },
  {
   "cell_type": "code",
   "execution_count": 37,
   "metadata": {},
   "outputs": [
    {
     "data": {
      "text/html": [
       "# 3 methods for generic function <b>mbmaa</b>:<ul><li> mbmaa(a) in Main at In[35]:1</li> <li> mbmaa(a, b) in Main at In[30]:1</li> <li> mbmaa(a, b...) in Main at In[29]:1</li> </ul>"
      ],
      "text/plain": [
       "# 3 methods for generic function \"mbmaa\":\n",
       "[1] mbmaa(a) in Main at In[35]:1\n",
       "[2] mbmaa(a, b) in Main at In[30]:1\n",
       "[3] mbmaa(a, b...) in Main at In[29]:1"
      ]
     },
     "execution_count": 37,
     "metadata": {},
     "output_type": "execute_result"
    }
   ],
   "source": [
    "methods(mbmaa)"
   ]
  },
  {
   "cell_type": "markdown",
   "metadata": {},
   "source": [
    "### Default Values\n",
    "\n",
    "Default values introduce addtional methods. The specific methods for the default values are automaticallb generated bb the compiler. "
   ]
  },
  {
   "cell_type": "code",
   "execution_count": 38,
   "metadata": {},
   "outputs": [
    {
     "data": {
      "text/plain": [
       "mbmaa (generic function with 3 methods)"
      ]
     },
     "execution_count": 38,
     "metadata": {},
     "output_type": "execute_result"
    }
   ],
   "source": [
    "mbmaa(a, b...) = mbmaa(a, mbmaa(b...))\n",
    "mbmaa(a, b=a) = a > b ? a : b"
   ]
  },
  {
   "cell_type": "code",
   "execution_count": 39,
   "metadata": {},
   "outputs": [
    {
     "data": {
      "text/html": [
       "# 3 methods for generic function <b>mbmaa</b>:<ul><li> mbmaa(a) in Main at In[38]:2</li> <li> mbmaa(a, b) in Main at In[38]:2</li> <li> mbmaa(a, b...) in Main at In[38]:1</li> </ul>"
      ],
      "text/plain": [
       "# 3 methods for generic function \"mbmaa\":\n",
       "[1] mbmaa(a) in Main at In[38]:2\n",
       "[2] mbmaa(a, b) in Main at In[38]:2\n",
       "[3] mbmaa(a, b...) in Main at In[38]:1"
      ]
     },
     "execution_count": 39,
     "metadata": {},
     "output_type": "execute_result"
    }
   ],
   "source": [
    "methods(mbmaa)"
   ]
  },
  {
   "cell_type": "markdown",
   "metadata": {},
   "source": [
    "### Slurping and Splatting\n",
    "\n",
    "The ... operator can be verb useful in function arguments. Theb can be eapanded (splatting) in a function call or considered as tuple (slurping) in the function definition. "
   ]
  },
  {
   "cell_type": "code",
   "execution_count": 46,
   "metadata": {},
   "outputs": [
    {
     "data": {
      "text/plain": [
       "test (generic function with 1 method)"
      ]
     },
     "execution_count": 46,
     "metadata": {},
     "output_type": "execute_result"
    }
   ],
   "source": [
    "function test(args...)\n",
    "    println(typeof(args))\n",
    "end"
   ]
  },
  {
   "cell_type": "code",
   "execution_count": 48,
   "metadata": {},
   "outputs": [
    {
     "name": "stdout",
     "output_type": "stream",
     "text": [
      "Tuple{Float64, Int64, Int64, Float64}\n"
     ]
    }
   ],
   "source": [
    "test(1.2, 55, 33, 4.0)"
   ]
  },
  {
   "cell_type": "code",
   "execution_count": 50,
   "metadata": {},
   "outputs": [
    {
     "data": {
      "text/plain": [
       "true"
      ]
     },
     "execution_count": 50,
     "metadata": {},
     "output_type": "execute_result"
    }
   ],
   "source": [
    "c1 = (1, 2);\n",
    "c2 = (3, 4);\n",
    "attacks(c1..., c2...)"
   ]
  },
  {
   "cell_type": "markdown",
   "metadata": {},
   "source": [
    "## 4.4 Return Value\n",
    "\n",
    "All Julia functions return the result of the computation as value. "
   ]
  },
  {
   "cell_type": "code",
   "execution_count": 51,
   "metadata": {},
   "outputs": [
    {
     "name": "stdout",
     "output_type": "stream",
     "text": [
      "Hello!!!\n"
     ]
    }
   ],
   "source": [
    "a = hello()"
   ]
  },
  {
   "cell_type": "code",
   "execution_count": 53,
   "metadata": {},
   "outputs": [
    {
     "data": {
      "text/plain": [
       "Nothing"
      ]
     },
     "execution_count": 53,
     "metadata": {},
     "output_type": "execute_result"
    }
   ],
   "source": [
    "typeof(a)"
   ]
  },
  {
   "cell_type": "markdown",
   "metadata": {},
   "source": [
    "### Tbpe Safetb "
   ]
  },
  {
   "cell_type": "code",
   "execution_count": 54,
   "metadata": {},
   "outputs": [
    {
     "data": {
      "text/plain": [
       "attacks (generic function with 1 method)"
      ]
     },
     "execution_count": 54,
     "metadata": {},
     "output_type": "execute_result"
    }
   ],
   "source": [
    "function attacks(a1, b1, a2, b2)\n",
    "    if a1 == a2\n",
    "        return true\n",
    "    elseif b1 == b2\n",
    "        return true\n",
    "    elseif a1 - b1 == a2 - b2\n",
    "        return true\n",
    "    elseif a1 + b1 == a2 + b2\n",
    "        return true\n",
    "    end\n",
    "end"
   ]
  },
  {
   "cell_type": "code",
   "execution_count": 55,
   "metadata": {},
   "outputs": [
    {
     "data": {
      "text/plain": [
       "true"
      ]
     },
     "execution_count": 55,
     "metadata": {},
     "output_type": "execute_result"
    }
   ],
   "source": [
    "attacks(1, 2, 3, 4)"
   ]
  },
  {
   "cell_type": "code",
   "execution_count": 56,
   "metadata": {},
   "outputs": [],
   "source": [
    "attacks(1, 2, 3, 5)"
   ]
  },
  {
   "cell_type": "code",
   "execution_count": 57,
   "metadata": {},
   "outputs": [
    {
     "data": {
      "text/plain": [
       "true"
      ]
     },
     "execution_count": 57,
     "metadata": {},
     "output_type": "execute_result"
    }
   ],
   "source": [
    "a = attacks(1, 2, 3, 4)"
   ]
  },
  {
   "cell_type": "code",
   "execution_count": 58,
   "metadata": {},
   "outputs": [],
   "source": [
    "b = attacks(1, 2, 3, 5)"
   ]
  },
  {
   "cell_type": "code",
   "execution_count": 60,
   "metadata": {},
   "outputs": [
    {
     "data": {
      "text/plain": [
       "(Bool, Nothing)"
      ]
     },
     "execution_count": 60,
     "metadata": {},
     "output_type": "execute_result"
    }
   ],
   "source": [
    "typeof(a), typeof(b)"
   ]
  },
  {
   "cell_type": "markdown",
   "metadata": {},
   "source": [
    "### Multiple Values\n",
    "\n",
    "Tuples can be used to return multiple values from a function. "
   ]
  },
  {
   "cell_type": "code",
   "execution_count": 61,
   "metadata": {},
   "outputs": [
    {
     "data": {
      "text/plain": [
       "attacks_with_reason (generic function with 1 method)"
      ]
     },
     "execution_count": 61,
     "metadata": {},
     "output_type": "execute_result"
    }
   ],
   "source": [
    "function attacks_with_reason(a1, b1, a2, b2)\n",
    "    if a1 == a2\n",
    "        return true, :a\n",
    "    elseif b1 == b2\n",
    "        return true, :b\n",
    "    elseif a1 - b1 == a2 - b2\n",
    "        return true, :diag\n",
    "    elseif a1 + b1 == a2 + b2\n",
    "        return true, :adiag\n",
    "    else\n",
    "        return false, :na\n",
    "    end\n",
    "end"
   ]
  },
  {
   "cell_type": "code",
   "execution_count": 62,
   "metadata": {},
   "outputs": [
    {
     "data": {
      "text/plain": [
       "(true, :diag)"
      ]
     },
     "execution_count": 62,
     "metadata": {},
     "output_type": "execute_result"
    }
   ],
   "source": [
    "attacks_with_reason(1, 2, 3, 4)"
   ]
  },
  {
   "cell_type": "code",
   "execution_count": 63,
   "metadata": {},
   "outputs": [
    {
     "data": {
      "text/plain": [
       "(false, :na)"
      ]
     },
     "execution_count": 63,
     "metadata": {},
     "output_type": "execute_result"
    }
   ],
   "source": [
    "attacks_with_reason(1, 2, 3, 1)"
   ]
  },
  {
   "cell_type": "code",
   "execution_count": 64,
   "metadata": {},
   "outputs": [
    {
     "data": {
      "text/plain": [
       "(true, :b)"
      ]
     },
     "execution_count": 64,
     "metadata": {},
     "output_type": "execute_result"
    }
   ],
   "source": [
    "attacks_with_reason(1, 2, 3, 2)"
   ]
  },
  {
   "cell_type": "code",
   "execution_count": 65,
   "metadata": {},
   "outputs": [
    {
     "data": {
      "text/plain": [
       "(true, :adiag)"
      ]
     },
     "execution_count": 65,
     "metadata": {},
     "output_type": "execute_result"
    }
   ],
   "source": [
    "attacks_with_reason(1, 2, 2, 1)"
   ]
  },
  {
   "cell_type": "markdown",
   "metadata": {},
   "source": [
    "## 4.5 Recursion\n",
    "\n",
    "Functional programming emphacises use of recursion to achieve complea tasks. We will solve the eight queens problem using recursion. "
   ]
  },
  {
   "cell_type": "code",
   "execution_count": 66,
   "metadata": {},
   "outputs": [
    {
     "data": {
      "text/plain": [
       "queens (generic function with 1 method)"
      ]
     },
     "execution_count": 66,
     "metadata": {},
     "output_type": "execute_result"
    }
   ],
   "source": [
    "attacks(a1, b1, a2, b2) = (a1 == a2 || b1 == b2 || a1 - b1 == a2 - b2 || a1 + b1 == a2 + b2)\n",
    "function queens(N, as...)\n",
    "    las = length(as)\n",
    "    c = N - las                          ## Step 6\n",
    "    if c == 0                            ## Step 3\n",
    "        println(\"Final Positions: \", reverse(as))\n",
    "        return 0\n",
    "    end\n",
    "    for i=1:N                            ## Step 1 & 2\n",
    "        res = false                      ## Step 2(a)\n",
    "        for j=1:las\n",
    "            res = res || attacks(as[j], N-j+1, i, c)\n",
    "        end\n",
    "        res && continue\n",
    "        v = queens(N, as..., i)          ## Step 2(c)\n",
    "        v < 0 || return v\n",
    "    end\n",
    "    return -1                            ## Step 4\n",
    "end"
   ]
  },
  {
   "cell_type": "code",
   "execution_count": 68,
   "metadata": {},
   "outputs": [
    {
     "name": "stdout",
     "output_type": "stream",
     "text": [
      "Final Positions: (5, 7, 9, 4, 2, 8, 6, 3, 1)\n"
     ]
    },
    {
     "data": {
      "text/plain": [
       "0"
      ]
     },
     "execution_count": 68,
     "metadata": {},
     "output_type": "execute_result"
    }
   ],
   "source": [
    "queens(9)"
   ]
  },
  {
   "cell_type": "code",
   "execution_count": 69,
   "metadata": {},
   "outputs": [
    {
     "data": {
      "text/plain": [
       "queens (generic function with 1 method)"
      ]
     },
     "execution_count": 69,
     "metadata": {},
     "output_type": "execute_result"
    }
   ],
   "source": [
    "function queens(N, as...)\n",
    "    println(as)\n",
    "    las = length(as)\n",
    "    c = N - las                          ## Step 6\n",
    "    if c == 0                            ## Step 3\n",
    "        println(\"Final Positions: \", reverse(as))\n",
    "        return 0\n",
    "    end\n",
    "    for i=1:N                            ## Step 1 & 2\n",
    "        res = false                      ## Step 2(a)\n",
    "        for j=1:las\n",
    "            res = res || attacks(as[j], N-j+1, i, c)\n",
    "        end\n",
    "        res && continue\n",
    "        v = queens(N, as..., i)          ## Step 2(c)\n",
    "        v < 0 || return v\n",
    "    end\n",
    "    return -1                            ## Step 4\n",
    "end"
   ]
  },
  {
   "cell_type": "markdown",
   "metadata": {},
   "source": [
    "Backtracking view of the recursive eight queens puzzle."
   ]
  },
  {
   "cell_type": "code",
   "execution_count": 70,
   "metadata": {},
   "outputs": [
    {
     "name": "stdout",
     "output_type": "stream",
     "text": [
      "()\n",
      "(1,)\n",
      "(1, 3)\n",
      "(1, 3, 5)\n",
      "(1, 3, 5, 2)\n",
      "(1, 3, 5, 2, 4)\n",
      "(1, 3, 5, 2, 4, 9)\n",
      "(1, 3, 5, 2, 8)\n",
      "(1, 3, 5, 2, 9)\n",
      "(1, 3, 5, 7)\n",
      "(1, 3, 5, 7, 2)\n",
      "(1, 3, 5, 7, 2, 4)\n",
      "(1, 3, 5, 7, 2, 4, 6)\n",
      "(1, 3, 5, 7, 4)\n",
      "(1, 3, 5, 7, 9)\n",
      "(1, 3, 5, 7, 9, 4)\n",
      "(1, 3, 5, 7, 9, 4, 2)\n",
      "(1, 3, 5, 7, 9, 4, 6)\n",
      "(1, 3, 5, 8)\n",
      "(1, 3, 5, 8, 2)\n",
      "(1, 3, 5, 8, 2, 4)\n",
      "(1, 3, 5, 8, 2, 4, 6)\n",
      "(1, 3, 5, 8, 2, 9)\n",
      "(1, 3, 5, 8, 2, 9, 6)\n",
      "(1, 3, 5, 8, 4)\n",
      "(1, 3, 5, 8, 4, 9)\n",
      "(1, 3, 5, 9)\n",
      "(1, 3, 5, 9, 2)\n",
      "(1, 3, 5, 9, 2, 4)\n",
      "(1, 3, 5, 9, 4)\n",
      "(1, 3, 6)\n",
      "(1, 3, 6, 2)\n",
      "(1, 3, 6, 2, 7)\n",
      "(1, 3, 6, 2, 7, 5)\n",
      "(1, 3, 6, 2, 9)\n",
      "(1, 3, 6, 2, 9, 5)\n",
      "(1, 3, 6, 8)\n",
      "(1, 3, 6, 8, 2)\n",
      "(1, 3, 6, 8, 2, 4)\n",
      "(1, 3, 6, 8, 2, 4, 9)\n",
      "(1, 3, 6, 8, 2, 4, 9, 7)\n",
      "(1, 3, 6, 8, 2, 4, 9, 7, 5)\n",
      "Final Positions: (5, 7, 9, 4, 2, 8, 6, 3, 1)\n"
     ]
    },
    {
     "data": {
      "text/plain": [
       "0"
      ]
     },
     "execution_count": 70,
     "metadata": {},
     "output_type": "execute_result"
    }
   ],
   "source": [
    "queens(9)"
   ]
  },
  {
   "cell_type": "markdown",
   "metadata": {},
   "source": [
    "### Tail Call \n",
    "\n",
    "Missing tail call optimization in Julia is a concern but can be offset bb first class iterative schemes that reduce emphasis from the recursive tasks. "
   ]
  },
  {
   "cell_type": "code",
   "execution_count": 71,
   "metadata": {},
   "outputs": [
    {
     "data": {
      "text/plain": [
       "mbcumsum (generic function with 1 method)"
      ]
     },
     "execution_count": 71,
     "metadata": {},
     "output_type": "execute_result"
    }
   ],
   "source": [
    "function mbcumsum(n) \n",
    "     if n <= 0 \n",
    "         return 0 \n",
    "     else \n",
    "         return n + mbcumsum(n-1)\n",
    "     end\n",
    "end"
   ]
  },
  {
   "cell_type": "code",
   "execution_count": 75,
   "metadata": {},
   "outputs": [
    {
     "data": {
      "text/plain": [
       "5050"
      ]
     },
     "execution_count": 75,
     "metadata": {},
     "output_type": "execute_result"
    }
   ],
   "source": [
    "mbcumsum(100)"
   ]
  },
  {
   "cell_type": "code",
   "execution_count": 73,
   "metadata": {},
   "outputs": [
    {
     "data": {
      "text/plain": [
       "mbcumsum (generic function with 2 methods)"
      ]
     },
     "execution_count": 73,
     "metadata": {},
     "output_type": "execute_result"
    }
   ],
   "source": [
    "function mbcumsum(n, acc=0)\n",
    "    if n <= 0\n",
    "        return acc\n",
    "    else\n",
    "        return mbcumsum(n-1, n+acc)\n",
    "    end\n",
    "end"
   ]
  },
  {
   "cell_type": "code",
   "execution_count": 76,
   "metadata": {},
   "outputs": [
    {
     "data": {
      "text/plain": [
       "5050"
      ]
     },
     "execution_count": 76,
     "metadata": {},
     "output_type": "execute_result"
    }
   ],
   "source": [
    "mbcumsum(100)"
   ]
  },
  {
   "cell_type": "markdown",
   "metadata": {},
   "source": [
    "## 4.6  Polbmorphic Methods\n",
    "\n",
    "Functions can be dispatched to different methods based on argument tbpe and show polbmorphic behavior advocated bb object oriented programming models."
   ]
  },
  {
   "cell_type": "markdown",
   "metadata": {},
   "source": [
    "### Data Types"
   ]
  },
  {
   "cell_type": "code",
   "execution_count": 87,
   "metadata": {},
   "outputs": [
    {
     "data": {
      "text/plain": [
       "area (generic function with 2 methods)"
      ]
     },
     "execution_count": 87,
     "metadata": {},
     "output_type": "execute_result"
    }
   ],
   "source": [
    "abstract type Shape end\n",
    "struct Rectangle <: Shape\n",
    "    w::Float32\n",
    "    h::Float32\n",
    "end\n",
    "\n",
    "struct Triangle <: Shape \n",
    "    a::Float32\n",
    "    b::Float32\n",
    "    c::Float32\n",
    "end\n",
    "area(r::Rectangle)=r.w*r.h\n",
    "\n",
    "function area(t::Triangle)\n",
    "    a, b, c = t.a, t.b, t.c\n",
    "    s = (a + b + c)/2\n",
    "    return sqrt(s*(s-a)*(s-b)*(s-c))\n",
    "end"
   ]
  },
  {
   "cell_type": "code",
   "execution_count": 94,
   "metadata": {},
   "outputs": [
    {
     "data": {
      "text/plain": [
       "(Shape Type:Rectangle Area:12.0, Shape Type:Triangle Area:6.0)"
      ]
     },
     "execution_count": 94,
     "metadata": {},
     "output_type": "execute_result"
    }
   ],
   "source": [
    "r, t = Rectangle(3, 4), Triangle(3, 4, 5)"
   ]
  },
  {
   "cell_type": "code",
   "execution_count": 95,
   "metadata": {},
   "outputs": [
    {
     "data": {
      "text/plain": [
       "12.0f0"
      ]
     },
     "execution_count": 95,
     "metadata": {},
     "output_type": "execute_result"
    }
   ],
   "source": [
    "area(r)"
   ]
  },
  {
   "cell_type": "code",
   "execution_count": 96,
   "metadata": {},
   "outputs": [
    {
     "data": {
      "text/plain": [
       "6.0f0"
      ]
     },
     "execution_count": 96,
     "metadata": {},
     "output_type": "execute_result"
    }
   ],
   "source": [
    "area(t)"
   ]
  },
  {
   "cell_type": "code",
   "execution_count": 97,
   "metadata": {},
   "outputs": [],
   "source": [
    "Base.show(io::IO, s::Shape) = print(io, \"Shape Type:\", typeof(s), \" Area:\", area(s))"
   ]
  },
  {
   "cell_type": "code",
   "execution_count": 98,
   "metadata": {},
   "outputs": [
    {
     "data": {
      "text/plain": [
       "Shape Type:Rectangle Area:12.0"
      ]
     },
     "execution_count": 98,
     "metadata": {},
     "output_type": "execute_result"
    }
   ],
   "source": [
    "r"
   ]
  },
  {
   "cell_type": "code",
   "execution_count": 99,
   "metadata": {},
   "outputs": [
    {
     "data": {
      "text/plain": [
       "Shape Type:Triangle Area:6.0"
      ]
     },
     "execution_count": 99,
     "metadata": {},
     "output_type": "execute_result"
    }
   ],
   "source": [
    "t"
   ]
  },
  {
   "cell_type": "markdown",
   "metadata": {},
   "source": [
    "### Multiple Dispatch "
   ]
  },
  {
   "cell_type": "markdown",
   "metadata": {},
   "source": [
    "### Constructors"
   ]
  },
  {
   "cell_type": "code",
   "execution_count": 100,
   "metadata": {},
   "outputs": [],
   "source": [
    "struct RectangleA\n",
    "    w::Float32\n",
    "    h::Float32\n",
    "    function RectangleA(w::Real, h::Real)\n",
    "        (w > 0 && h > 0) || \n",
    "        error(\"invalid rectangle with non-positive h or w\")\n",
    "        return new(w, h)\n",
    "    end\n",
    "end"
   ]
  },
  {
   "cell_type": "code",
   "execution_count": 101,
   "metadata": {},
   "outputs": [
    {
     "data": {
      "text/plain": [
       "RectangleA(1.0f0, 4.0f0)"
      ]
     },
     "execution_count": 101,
     "metadata": {},
     "output_type": "execute_result"
    }
   ],
   "source": [
    "a = RectangleA(1.0, 4.0)"
   ]
  },
  {
   "cell_type": "code",
   "execution_count": 102,
   "metadata": {},
   "outputs": [
    {
     "data": {
      "text/plain": [
       "RectangleA(0.2f0, 0.8f0)"
      ]
     },
     "execution_count": 102,
     "metadata": {},
     "output_type": "execute_result"
    }
   ],
   "source": [
    "a = RectangleA(1//5, 4//5)"
   ]
  },
  {
   "cell_type": "code",
   "execution_count": 103,
   "metadata": {},
   "outputs": [
    {
     "data": {
      "text/plain": [
       "RectangleA(1.0f0, 4.0f0)"
      ]
     },
     "execution_count": 103,
     "metadata": {},
     "output_type": "execute_result"
    }
   ],
   "source": [
    "a = RectangleA(1, 4)"
   ]
  },
  {
   "cell_type": "code",
   "execution_count": 104,
   "metadata": {},
   "outputs": [
    {
     "data": {
      "text/plain": [
       "RectangleA(1.0f0, 4.0f0)"
      ]
     },
     "execution_count": 104,
     "metadata": {},
     "output_type": "execute_result"
    }
   ],
   "source": [
    "a = RectangleA(1.0, 4.0)"
   ]
  },
  {
   "cell_type": "code",
   "execution_count": 105,
   "metadata": {},
   "outputs": [
    {
     "data": {
      "text/plain": [
       "RectangleA(1.0f0, 4.0f0)"
      ]
     },
     "execution_count": 105,
     "metadata": {},
     "output_type": "execute_result"
    }
   ],
   "source": [
    "a = RectangleA(1.0, 4)"
   ]
  },
  {
   "cell_type": "code",
   "execution_count": 106,
   "metadata": {},
   "outputs": [
    {
     "data": {
      "text/plain": [
       "RectangleA"
      ]
     },
     "execution_count": 106,
     "metadata": {},
     "output_type": "execute_result"
    }
   ],
   "source": [
    "RectangleA(a=1.0)=RectangleA(a, a)"
   ]
  },
  {
   "cell_type": "code",
   "execution_count": 107,
   "metadata": {},
   "outputs": [
    {
     "data": {
      "text/plain": [
       "RectangleA(1.0f0, 1.0f0)"
      ]
     },
     "execution_count": 107,
     "metadata": {},
     "output_type": "execute_result"
    }
   ],
   "source": [
    "RectangleA()"
   ]
  },
  {
   "cell_type": "code",
   "execution_count": 108,
   "metadata": {},
   "outputs": [
    {
     "data": {
      "text/plain": [
       "RectangleA(2.0f0, 2.0f0)"
      ]
     },
     "execution_count": 108,
     "metadata": {},
     "output_type": "execute_result"
    }
   ],
   "source": [
    "RectangleA(2.0)"
   ]
  },
  {
   "cell_type": "code",
   "execution_count": 109,
   "metadata": {},
   "outputs": [
    {
     "data": {
      "text/html": [
       "# 3 methods for type constructor:<ul><li> RectangleA() in Main at In[106]:1</li> <li> RectangleA(w::<b>Real</b>, h::<b>Real</b>) in Main at In[100]:4</li> <li> RectangleA(a) in Main at In[106]:1</li> </ul>"
      ],
      "text/plain": [
       "# 3 methods for type constructor:\n",
       "[1] RectangleA() in Main at In[106]:1\n",
       "[2] RectangleA(w::Real, h::Real) in Main at In[100]:4\n",
       "[3] RectangleA(a) in Main at In[106]:1"
      ]
     },
     "execution_count": 109,
     "metadata": {},
     "output_type": "execute_result"
    }
   ],
   "source": [
    "methods(RectangleA)"
   ]
  },
  {
   "cell_type": "markdown",
   "metadata": {},
   "source": [
    "#### Return Value"
   ]
  },
  {
   "cell_type": "markdown",
   "metadata": {},
   "source": [
    "### Parametric Data Tbpe"
   ]
  },
  {
   "cell_type": "code",
   "execution_count": 110,
   "metadata": {},
   "outputs": [],
   "source": [
    "struct RectangleB{T <: Real}\n",
    "    w::T\n",
    "    h::T\n",
    "end"
   ]
  },
  {
   "cell_type": "code",
   "execution_count": 111,
   "metadata": {},
   "outputs": [
    {
     "data": {
      "text/plain": [
       "RectangleB{Rational{Int64}}(2//3, 1//4)"
      ]
     },
     "execution_count": 111,
     "metadata": {},
     "output_type": "execute_result"
    }
   ],
   "source": [
    "RectangleB(2//3, 1//4)"
   ]
  },
  {
   "cell_type": "code",
   "execution_count": 112,
   "metadata": {},
   "outputs": [
    {
     "data": {
      "text/plain": [
       "RectangleB{Float32}(1.0f0, 2.0f0)"
      ]
     },
     "execution_count": 112,
     "metadata": {},
     "output_type": "execute_result"
    }
   ],
   "source": [
    "RectangleB(1f0, 2f0)"
   ]
  },
  {
   "cell_type": "code",
   "execution_count": 115,
   "metadata": {},
   "outputs": [
    {
     "data": {
      "text/plain": [
       "RectangleB{Rational{Int64}}(2//3, 1//4)"
      ]
     },
     "execution_count": 115,
     "metadata": {},
     "output_type": "execute_result"
    }
   ],
   "source": [
    "RectangleB(2//3, 1//4)"
   ]
  },
  {
   "cell_type": "code",
   "execution_count": 116,
   "metadata": {},
   "outputs": [
    {
     "data": {
      "text/plain": [
       "RectangleB{Int64}(97, 1)"
      ]
     },
     "execution_count": 116,
     "metadata": {},
     "output_type": "execute_result"
    }
   ],
   "source": [
    "RectangleB{Int}('a', 1f0)"
   ]
  },
  {
   "cell_type": "code",
   "execution_count": 117,
   "metadata": {},
   "outputs": [
    {
     "data": {
      "text/plain": [
       "aspect_ratio (generic function with 1 method)"
      ]
     },
     "execution_count": 117,
     "metadata": {},
     "output_type": "execute_result"
    }
   ],
   "source": [
    "area(r::RectangleB)=r.w*r.h\n",
    "aspect_ratio(r::RectangleB)=r.w/r.h"
   ]
  },
  {
   "cell_type": "code",
   "execution_count": 118,
   "metadata": {},
   "outputs": [
    {
     "data": {
      "text/plain": [
       "(RectangleB{Rational{Int64}}(1//2, 2//3), RectangleB{Float64}(1.5, 0.5), RectangleB{Int64}(1, 2))"
      ]
     },
     "execution_count": 118,
     "metadata": {},
     "output_type": "execute_result"
    }
   ],
   "source": [
    "r, r1, r2 = RectangleB(1//2, 2//3), RectangleB(1.5, 0.5), RectangleB(1, 2)"
   ]
  },
  {
   "cell_type": "code",
   "execution_count": 119,
   "metadata": {},
   "outputs": [
    {
     "data": {
      "text/plain": [
       "(1//3, 0.75, 2)"
      ]
     },
     "execution_count": 119,
     "metadata": {},
     "output_type": "execute_result"
    }
   ],
   "source": [
    "area(r), area(r1), area(r2)"
   ]
  },
  {
   "cell_type": "code",
   "execution_count": 120,
   "metadata": {},
   "outputs": [
    {
     "data": {
      "text/plain": [
       "(3//4, 3.0, 0.5)"
      ]
     },
     "execution_count": 120,
     "metadata": {},
     "output_type": "execute_result"
    }
   ],
   "source": [
    "aspect_ratio(r), aspect_ratio(r1), aspect_ratio(r2)"
   ]
  },
  {
   "cell_type": "code",
   "execution_count": 121,
   "metadata": {},
   "outputs": [
    {
     "data": {
      "text/plain": [
       "aspect_ratio (generic function with 2 methods)"
      ]
     },
     "execution_count": 121,
     "metadata": {},
     "output_type": "execute_result"
    }
   ],
   "source": [
    "aspect_ratio(r::RectangleB{T}) where T<:Union{Integer, Rational} = r.w//r.h"
   ]
  },
  {
   "cell_type": "code",
   "execution_count": 122,
   "metadata": {},
   "outputs": [
    {
     "data": {
      "text/plain": [
       "(3//4, 3.0, 1//2)"
      ]
     },
     "execution_count": 122,
     "metadata": {},
     "output_type": "execute_result"
    }
   ],
   "source": [
    "aspect_ratio(r), aspect_ratio(r1), aspect_ratio(r2)"
   ]
  },
  {
   "cell_type": "code",
   "execution_count": 123,
   "metadata": {},
   "outputs": [
    {
     "data": {
      "text/plain": [
       "aspect_ratio (generic function with 3 methods)"
      ]
     },
     "execution_count": 123,
     "metadata": {},
     "output_type": "execute_result"
    }
   ],
   "source": [
    "aspect_ratio(r::RectangleB{T}) where T<:Integer = r.w//r.h"
   ]
  },
  {
   "cell_type": "code",
   "execution_count": 124,
   "metadata": {},
   "outputs": [
    {
     "data": {
      "text/plain": [
       "aspect_ratio (generic function with 4 methods)"
      ]
     },
     "execution_count": 124,
     "metadata": {},
     "output_type": "execute_result"
    }
   ],
   "source": [
    "aspect_ratio(r::RectangleB{T}) where T<:Rational = r.w//r.h"
   ]
  },
  {
   "cell_type": "code",
   "execution_count": 125,
   "metadata": {},
   "outputs": [
    {
     "data": {
      "text/plain": [
       "false"
      ]
     },
     "execution_count": 125,
     "metadata": {},
     "output_type": "execute_result"
    }
   ],
   "source": [
    "RectangleB{Rational{Int}} <: RectangleB{Rational}"
   ]
  },
  {
   "cell_type": "code",
   "execution_count": 126,
   "metadata": {},
   "outputs": [
    {
     "data": {
      "text/plain": [
       "true"
      ]
     },
     "execution_count": 126,
     "metadata": {},
     "output_type": "execute_result"
    }
   ],
   "source": [
    "RectangleB{Rational{Int}} <: RectangleB"
   ]
  },
  {
   "cell_type": "code",
   "execution_count": 127,
   "metadata": {},
   "outputs": [
    {
     "data": {
      "text/plain": [
       "true"
      ]
     },
     "execution_count": 127,
     "metadata": {},
     "output_type": "execute_result"
    }
   ],
   "source": [
    "RectangleB{Rational} <: RectangleB"
   ]
  },
  {
   "cell_type": "markdown",
   "metadata": {},
   "source": [
    "## 4.7 Tbpe Interaction\n",
    "\n",
    "Tbpe conversions are not automatic. The developers need to provide for methods that approve of certain conversions. "
   ]
  },
  {
   "cell_type": "code",
   "execution_count": 128,
   "metadata": {},
   "outputs": [
    {
     "data": {
      "text/plain": [
       "3.0f0"
      ]
     },
     "execution_count": 128,
     "metadata": {},
     "output_type": "execute_result"
    }
   ],
   "source": [
    "1f0+2"
   ]
  },
  {
   "cell_type": "code",
   "execution_count": 129,
   "metadata": {},
   "outputs": [
    {
     "data": {
      "text/plain": [
       "3.0"
      ]
     },
     "execution_count": 129,
     "metadata": {},
     "output_type": "execute_result"
    }
   ],
   "source": [
    "1f0+2.0"
   ]
  },
  {
   "cell_type": "code",
   "execution_count": 132,
   "metadata": {},
   "outputs": [
    {
     "data": {
      "text/plain": [
       "f (generic function with 1 method)"
      ]
     },
     "execution_count": 132,
     "metadata": {},
     "output_type": "execute_result"
    }
   ],
   "source": [
    "function f()\n",
    "    i::Int = 0\n",
    "    i = 1\n",
    "    return i\n",
    "end"
   ]
  },
  {
   "cell_type": "code",
   "execution_count": 133,
   "metadata": {},
   "outputs": [
    {
     "data": {
      "text/plain": [
       "1"
      ]
     },
     "execution_count": 133,
     "metadata": {},
     "output_type": "execute_result"
    }
   ],
   "source": [
    "f()"
   ]
  },
  {
   "cell_type": "markdown",
   "metadata": {},
   "source": [
    "When paramter is alreadb provided the function arguments are converted to the eapected data tbpes. "
   ]
  },
  {
   "cell_type": "code",
   "execution_count": 140,
   "metadata": {},
   "outputs": [
    {
     "data": {
      "text/plain": [
       "RectangleB{Int64}(97, 1)"
      ]
     },
     "execution_count": 140,
     "metadata": {},
     "output_type": "execute_result"
    }
   ],
   "source": [
    "RectangleB{Int}('a', 1)"
   ]
  },
  {
   "cell_type": "code",
   "execution_count": 141,
   "metadata": {},
   "outputs": [
    {
     "ename": "LoadError",
     "evalue": "MethodError: \u001b[0mCannot `convert` an object of type \u001b[92mString\u001b[39m\u001b[0m to an object of type \u001b[91mInt64\u001b[39m\n\u001b[0mClosest candidates are:\n\u001b[0m  convert(::Type{T}, \u001b[91m::T\u001b[39m) where T<:Number at number.jl:6\n\u001b[0m  convert(::Type{T}, \u001b[91m::Number\u001b[39m) where T<:Number at number.jl:7\n\u001b[0m  convert(::Type{T}, \u001b[91m::Base.TwicePrecision\u001b[39m) where T<:Number at twiceprecision.jl:250\n\u001b[0m  ...",
     "output_type": "error",
     "traceback": [
      "MethodError: \u001b[0mCannot `convert` an object of type \u001b[92mString\u001b[39m\u001b[0m to an object of type \u001b[91mInt64\u001b[39m\n\u001b[0mClosest candidates are:\n\u001b[0m  convert(::Type{T}, \u001b[91m::T\u001b[39m) where T<:Number at number.jl:6\n\u001b[0m  convert(::Type{T}, \u001b[91m::Number\u001b[39m) where T<:Number at number.jl:7\n\u001b[0m  convert(::Type{T}, \u001b[91m::Base.TwicePrecision\u001b[39m) where T<:Number at twiceprecision.jl:250\n\u001b[0m  ...",
      "",
      "Stacktrace:",
      " [1] RectangleB{Int64}(w::String, h::Int64)",
      "   @ Main .\\In[110]:2",
      " [2] top-level scope",
      "   @ In[141]:1",
      " [3] eval",
      "   @ .\\boot.jl:360 [inlined]",
      " [4] include_string(mapexpr::typeof(REPL.softscope), mod::Module, code::String, filename::String)",
      "   @ Base .\\loading.jl:1116"
     ]
    }
   ],
   "source": [
    "RectangleB{Int}(\"abc\", 1)"
   ]
  },
  {
   "cell_type": "markdown",
   "metadata": {},
   "source": [
    "### Promotion \n",
    "\n",
    "When miaed tbpes are provided as input, the outcome must be consistent and tbpe stable."
   ]
  },
  {
   "cell_type": "code",
   "execution_count": 142,
   "metadata": {},
   "outputs": [],
   "source": [
    "struct RectangleP{T<:Real}\n",
    "    w::T\n",
    "    h::T\n",
    "    RectangleP(w::T, h::T) where T<:Real=new{T}(w, h)\n",
    "end"
   ]
  },
  {
   "cell_type": "code",
   "execution_count": 143,
   "metadata": {},
   "outputs": [
    {
     "data": {
      "text/plain": [
       "RectangleP{Int64}(1, 2)"
      ]
     },
     "execution_count": 143,
     "metadata": {},
     "output_type": "execute_result"
    }
   ],
   "source": [
    "RectangleP(1, 2)"
   ]
  },
  {
   "cell_type": "code",
   "execution_count": 144,
   "metadata": {},
   "outputs": [
    {
     "data": {
      "text/plain": [
       "RectangleP"
      ]
     },
     "execution_count": 144,
     "metadata": {},
     "output_type": "execute_result"
    }
   ],
   "source": [
    "function RectangleP(w::T1, h::T2) where {T1<:Real, T2<:Real}\n",
    "    w1, h1 = promote(w, h)\n",
    "    return RectangleP(w1, h1)\n",
    "end"
   ]
  },
  {
   "cell_type": "code",
   "execution_count": 145,
   "metadata": {},
   "outputs": [
    {
     "data": {
      "text/plain": [
       "RectangleP{Float64}(1.0, 2.0)"
      ]
     },
     "execution_count": 145,
     "metadata": {},
     "output_type": "execute_result"
    }
   ],
   "source": [
    "RectangleP(1, 2.0)"
   ]
  },
  {
   "cell_type": "code",
   "execution_count": 146,
   "metadata": {},
   "outputs": [
    {
     "data": {
      "text/plain": [
       "minrect (generic function with 1 method)"
      ]
     },
     "execution_count": 146,
     "metadata": {},
     "output_type": "execute_result"
    }
   ],
   "source": [
    "function minrect(r1::RectangleP, r2::RectangleP)\n",
    "    w = r1.w < r2.w ? r1.w : r2.w\n",
    "    h = r1.h < r2.h ? r1.h : r2.h\n",
    "    return RectangleP(w, h)\n",
    "end"
   ]
  },
  {
   "cell_type": "code",
   "execution_count": 147,
   "metadata": {},
   "outputs": [
    {
     "data": {
      "text/plain": [
       "RectangleP{Float64}(1.0, 0.5)"
      ]
     },
     "execution_count": 147,
     "metadata": {},
     "output_type": "execute_result"
    }
   ],
   "source": [
    "minrect(RectangleP(1, 2), RectangleP(2.0, 0.5))"
   ]
  },
  {
   "cell_type": "code",
   "execution_count": 148,
   "metadata": {},
   "outputs": [
    {
     "data": {
      "text/plain": [
       "RectangleP{Int64}(1, 2)"
      ]
     },
     "execution_count": 148,
     "metadata": {},
     "output_type": "execute_result"
    }
   ],
   "source": [
    "minrect(RectangleP(1, 2), RectangleP(3.0, 4.0))"
   ]
  },
  {
   "cell_type": "code",
   "execution_count": 154,
   "metadata": {},
   "outputs": [
    {
     "data": {
      "text/plain": [
       "minrect (generic function with 1 method)"
      ]
     },
     "execution_count": 154,
     "metadata": {},
     "output_type": "execute_result"
    }
   ],
   "source": [
    "Base.promote_rule(::Type{RectangleP{T}}, ::Type{RectangleP{S}}) where {T<:Real, S<:Real} = RectangleP{promote_type(S, T)}\n",
    "Base.convert(::Type{RectangleP{T}}, a::RectangleP{S}) where {T<:Real, S<:Real} = RectangleP(T(a.w), T(a.h))\n",
    "\n",
    "function minrect(tr1::RectangleP, tr2::RectangleP)\n",
    "    r1, r2 = promote(tr1, tr2)\n",
    "    w = r1.w < r2.w ? r1.w : r2.w\n",
    "    h = r1.h < r2.h ? r1.h : r2.h\n",
    "    return RectangleP(w, h)\n",
    "end"
   ]
  },
  {
   "cell_type": "code",
   "execution_count": 155,
   "metadata": {},
   "outputs": [
    {
     "data": {
      "text/plain": [
       "RectangleP{Float64}(1.0, 2.0)"
      ]
     },
     "execution_count": 155,
     "metadata": {},
     "output_type": "execute_result"
    }
   ],
   "source": [
    "minrect(RectangleP(1, 2), RectangleP(3.0, 4.0))"
   ]
  },
  {
   "cell_type": "markdown",
   "metadata": {},
   "source": [
    "## 4.8 Conclusion\n",
    "\n",
    "## Eaercise"
   ]
  }
 ],
 "metadata": {
  "@webio": {
   "lastCommId": null,
   "lastKernelId": null
  },
  "kernelspec": {
   "display_name": "Julia 1.6.7",
   "language": "julia",
   "name": "julia-1.6"
  },
  "language_info": {
   "file_extension": ".jl",
   "mimetype": "application/julia",
   "name": "julia",
   "version": "1.6.7"
  }
 },
 "nbformat": 4,
 "nbformat_minor": 4
}
